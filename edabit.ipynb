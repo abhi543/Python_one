{
 "cells": [
  {
   "cell_type": "code",
   "execution_count": 2,
   "metadata": {},
   "outputs": [
    {
     "name": "stdout",
     "output_type": "stream",
     "text": [
      "{'ra...ra...ravi?'}\n"
     ]
    }
   ],
   "source": [
    "def strutter(word): \r\n",
    "        return word[0:2]+\"...\" + word[0:2]+\"...\" +word +\"?\"  \r\n",
    "print(strutter('ravi'))\r\n",
    "#struttering"
   ]
  },
  {
   "cell_type": "code",
   "execution_count": 8,
   "metadata": {},
   "outputs": [
    {
     "name": "stdout",
     "output_type": "stream",
     "text": [
      "90.0\n"
     ]
    }
   ],
   "source": [
    "def dis(price,discount): \r\n",
    "    return price*(100-discount)/100\r\n",
    "print(dis(100,10))\r\n"
   ]
  },
  {
   "cell_type": "markdown",
   "metadata": {},
   "source": [
    "price item"
   ]
  },
  {
   "cell_type": "code",
   "execution_count": 9,
   "metadata": {},
   "outputs": [
    {
     "name": "stdout",
     "output_type": "stream",
     "text": [
      "True\n"
     ]
    }
   ],
   "source": [
    "def is_curzon(x): \r\n",
    "    return (2**x+1)%(2*x+1)==0 \r\n",
    "print(is_curzon(5))"
   ]
  },
  {
   "cell_type": "code",
   "execution_count": null,
   "metadata": {},
   "outputs": [],
   "source": []
  },
  {
   "cell_type": "markdown",
   "metadata": {},
   "source": [
    "curzon number=2**num+1=y\r\n",
    "2*num+1=z\r\n",
    "if y is multiple of z then it is"
   ]
  }
 ],
 "metadata": {
  "interpreter": {
   "hash": "0219bb7bc76ff629f06623a605b0ccfa6e88da03207d176a954457842435df95"
  },
  "kernelspec": {
   "display_name": "Python 3.7.0 64-bit",
   "name": "python3"
  },
  "language_info": {
   "name": "python",
   "version": ""
  },
  "orig_nbformat": 4
 },
 "nbformat": 4,
 "nbformat_minor": 2
}