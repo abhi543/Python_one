{
 "cells": [
  {
   "cell_type": "code",
   "execution_count": 1,
   "metadata": {},
   "outputs": [
    {
     "name": "stdout",
     "output_type": "stream",
     "text": [
      "()\n"
     ]
    }
   ],
   "source": [
    "empty_tuple=()\r\n",
    "print(empty_tuple)"
   ]
  },
  {
   "cell_type": "code",
   "execution_count": 9,
   "metadata": {},
   "outputs": [
    {
     "name": "stdout",
     "output_type": "stream",
     "text": [
      "(4.6, 9)\n",
      "('c', 'i', 'n', 't', 'a')\n"
     ]
    }
   ],
   "source": [
    "list1=[4.6,9]\r\n",
    "tup=('prabhu',\"deva\",\"salu\",\"arty\",\"ruhi\")\r\n",
    "tup1=(2,3,4)\r\n",
    "tup3=(tup,tup1)\r\n",
    "print(tuple(list1))\r\n",
    "print(tuple('cinta'))"
   ]
  },
  {
   "cell_type": "code",
   "execution_count": 10,
   "metadata": {},
   "outputs": [
    {
     "name": "stdout",
     "output_type": "stream",
     "text": [
      "(('playground',),)\n",
      "((('playground',),),)\n",
      "(((('playground',),),),)\n",
      "((((('playground',),),),),)\n",
      "(((((('playground',),),),),),)\n"
     ]
    }
   ],
   "source": [
    "tuper=('playground',)\r\n",
    "n=5\r\n",
    "for i in range(int(n)): \r\n",
    "    tuper=(tuper,)\r\n",
    "    print(tuper)"
   ]
  },
  {
   "cell_type": "code",
   "execution_count": 1,
   "metadata": {},
   "outputs": [
    {
     "name": "stdout",
     "output_type": "stream",
     "text": [
      "ra...ra...ravi?\n"
     ]
    }
   ],
   "source": [
    "def strutter(word): \r\n",
    "        return word[0:2]+\"...\" + word[0:2]+\"...\" +word +\"?\"       \r\n",
    "print(strutter('ravi'))"
   ]
  },
  {
   "cell_type": "code",
   "execution_count": null,
   "metadata": {},
   "outputs": [],
   "source": []
  }
 ],
 "metadata": {
  "interpreter": {
   "hash": "0219bb7bc76ff629f06623a605b0ccfa6e88da03207d176a954457842435df95"
  },
  "kernelspec": {
   "display_name": "Python 3.7.0 64-bit",
   "name": "python3"
  },
  "language_info": {
   "codemirror_mode": {
    "name": "ipython",
    "version": 3
   },
   "file_extension": ".py",
   "mimetype": "text/x-python",
   "name": "python",
   "nbconvert_exporter": "python",
   "pygments_lexer": "ipython3",
   "version": "3.7.0"
  },
  "orig_nbformat": 4
 },
 "nbformat": 4,
 "nbformat_minor": 2
}